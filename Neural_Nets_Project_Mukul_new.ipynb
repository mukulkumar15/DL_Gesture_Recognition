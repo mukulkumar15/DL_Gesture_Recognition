{
 "cells": [
  {
   "cell_type": "markdown",
   "metadata": {},
   "source": [
    "# Gesture Recognition\n",
    "In this group project, you are going to build a 3D Conv model that will be able to predict the 5 gestures correctly. Please import the following libraries to get started."
   ]
  },
  {
   "cell_type": "code",
   "execution_count": 1,
   "metadata": {},
   "outputs": [],
   "source": [
    "import numpy as np\n",
    "import os\n",
    "import PIL\n",
    "import cv2\n",
    "import datetime\n",
    "import os\n",
    "import matplotlib.pyplot as plt"
   ]
  },
  {
   "cell_type": "code",
   "execution_count": 2,
   "metadata": {},
   "outputs": [
    {
     "name": "stdout",
     "output_type": "stream",
     "text": [
      "Requirement already satisfied: keras in c:\\users\\mukul\\anaconda3\\lib\\site-packages (2.4.3)\n",
      "Requirement already satisfied: h5py in c:\\users\\mukul\\anaconda3\\lib\\site-packages (from keras) (3.1.0)\n",
      "Requirement already satisfied: scipy>=0.14 in c:\\users\\mukul\\anaconda3\\lib\\site-packages (from keras) (1.5.2)\n",
      "Requirement already satisfied: pyyaml in c:\\users\\mukul\\anaconda3\\lib\\site-packages (from keras) (5.3.1)\n",
      "Requirement already satisfied: numpy>=1.9.1 in c:\\users\\mukul\\anaconda3\\lib\\site-packages (from keras) (1.19.5)\n"
     ]
    }
   ],
   "source": [
    "!pip install keras"
   ]
  },
  {
   "cell_type": "markdown",
   "metadata": {},
   "source": [
    "We set the random seed so that the results don't vary drastically."
   ]
  },
  {
   "cell_type": "code",
   "execution_count": 3,
   "metadata": {},
   "outputs": [],
   "source": [
    "np.random.seed(30)\n",
    "import random as rn\n",
    "rn.seed(30)\n",
    "from keras import backend as K\n",
    "import tensorflow as tf\n",
    "tf.random.set_seed(30)"
   ]
  },
  {
   "cell_type": "markdown",
   "metadata": {},
   "source": [
    "In this block, you read the folder names for training and validation. You also set the `batch_size` here. Note that you set the batch size in such a way that you are able to use the GPU in full capacity. You keep increasing the batch size until the machine throws an error."
   ]
  },
  {
   "cell_type": "code",
   "execution_count": 5,
   "metadata": {},
   "outputs": [],
   "source": [
    "#train_doc = np.random.permutation(open('/datasets/Project_data/train.csv').readlines())\n",
    "#val_doc = np.random.permutation(open('/datasets/Project_data/val.csv').readlines())\n",
    "train_doc = np.random.permutation(open('Project_data/train.csv').readlines())\n",
    "val_doc = np.random.permutation(open('Project_data/val.csv').readlines())\n",
    "\n",
    "batch_size = 64 #experiment with the batch size"
   ]
  },
  {
   "cell_type": "markdown",
   "metadata": {},
   "source": [
    "## Generator\n",
    "This is one of the most important part of the code. The overall structure of the generator has been given. In the generator, you are going to preprocess the images as you have images of 2 different dimensions as well as create a batch of video frames. You have to experiment with `img_idx`, `y`,`z` and normalization such that you get high accuracy."
   ]
  },
  {
   "cell_type": "code",
   "execution_count": 5,
   "metadata": {},
   "outputs": [],
   "source": [
    "def send_batch_data(source_path, folder_list, batch_size, img_idx, x, y, z, t, batch, batch_data, batch_labels):\n",
    "    for folder in range(batch_size): # iterate over the batch_size\n",
    "        imgs = os.listdir(source_path+'/'+ t[folder + (batch*batch_size)].split(';')[0]) # read all the images in the folder\n",
    "        for idx,item in enumerate(img_idx): #  Iterate iver the frames/images of a folder to read them in\n",
    "            image = cv2.imread(source_path+'/'+ t[folder + (batch*batch_size)].strip().split(';')[0]+'/'+imgs[item]).astype(np.float32)\n",
    "\n",
    "            #crop the images and resize them. Note that the images are of 2 different shape \n",
    "            #and the conv3D will throw error if the inputs in a batch have different shapes\n",
    "            #image = cv2.resize(image, (y, z))\n",
    "            if image.shape[1] == 160:\n",
    "                image = cv2.resize(image[:,20:140,:],(y,z)).astype(np.float32)\n",
    "            else:\n",
    "                image = cv2.resize(image,(y,z)).astype(np.float32)\n",
    "\n",
    "            batch_data[folder,idx,:,:,0] = cv2.normalize(image[:,:,0], None, alpha=100, beta=255, \n",
    "                                                                 norm_type=cv2.NORM_MINMAX, dtype=cv2.CV_32F)\n",
    "            batch_data[folder,idx,:,:,1] = cv2.normalize(image[:,:,1], None, alpha=100, beta=255, \n",
    "                                                                 norm_type=cv2.NORM_MINMAX, dtype=cv2.CV_32F)\n",
    "            batch_data[folder,idx,:,:,2] = cv2.normalize(image[:,:,2], None, alpha=100, beta=255, \n",
    "                                                                 norm_type=cv2.NORM_MINMAX, dtype=cv2.CV_32F)\n",
    "            \n",
    "        batch_labels[folder, int(t[folder + (batch*batch_size)].strip().split(';')[2])] = 1\n",
    "    return batch_data, batch_labels #you yield the batch_data and the batch_labels, remember what does yield do\n"
   ]
  },
  {
   "cell_type": "code",
   "execution_count": 6,
   "metadata": {},
   "outputs": [],
   "source": [
    "def generator(source_path, folder_list, batch_size):\n",
    "    print( 'Source path = ', source_path, '; batch size =', batch_size)\n",
    "    \n",
    "    #create a list of image numbers you want to use for a particular video\n",
    "    img_idx = [0,1,2,4,6,8,10,12,14,16,18,20,22,24,26,27,28,29] \n",
    "\n",
    "    x = len(img_idx) # number of images in the seq\n",
    "    y = 84 # image_height\n",
    "    z = 84 # image_width\n",
    "    while True:\n",
    "        t = np.random.permutation(folder_list)\n",
    "        num_batches = len(folder_list)//batch_size # calculate the number of batches\n",
    "        for batch in range(num_batches): # we iterate over the number of batches\n",
    "            batch_data = np.zeros((batch_size,x,y,z,3)) # x is the number of images you use for each video, (y,z) is the final size of the input images and 3 is the number of channels RGB\n",
    "            batch_labels = np.zeros((batch_size,5)) # batch_labels is the one hot representation of the output\n",
    "            \n",
    "            # Calling the function which forms the batch data\n",
    "            batch_data, batch_labels = send_batch_data(source_path, folder_list, batch_size, img_idx, x, y, z, t, \n",
    "                                                       batch, batch_data, batch_labels)\n",
    "            yield batch_data, batch_labels #you yield the batch_data and the batch_labels, remember what does yield do\n",
    "\n",
    "        \n",
    "        # write the code for the remaining data points which are left after full batches\n",
    "        rem_img_size = len(folder_list) - batch_size * num_batches\n",
    "        batch_num = num_batches\n",
    "        batch_data = np.zeros((rem_img_size,x,y,z,3)) # x is the number of images you use for each video, (y,z) is the final size of the input images and 3 is the number of channels RGB\n",
    "        batch_labels = np.zeros((rem_img_size,5)) # batch_labels is the one hot representation of the output\n",
    "        \n",
    "        # Calling the function which forms the batch data\n",
    "        batch_data, batch_labels = send_batch_data(source_path, folder_list, rem_img_size, img_idx, x, y, z, t, \n",
    "                                                   batch_num, batch_data, batch_labels)\n",
    "        yield batch_data, batch_labels #you yield the batch_data and the batch_labels, remember what does yield do\n"
   ]
  },
  {
   "cell_type": "markdown",
   "metadata": {},
   "source": [
    "Note here that a video is represented above in the generator as (number of images, height, width, number of channels). Take this into consideration while creating the model architecture."
   ]
  },
  {
   "cell_type": "code",
   "execution_count": 11,
   "metadata": {},
   "outputs": [
    {
     "name": "stdout",
     "output_type": "stream",
     "text": [
      "# training sequences = 663\n",
      "# validation sequences = 100\n",
      "# epochs = 50\n"
     ]
    }
   ],
   "source": [
    "curr_dt_time = datetime.datetime.now()\n",
    "train_path = '/datasets/Project_data//train'\n",
    "#val_path = '/datasets/Project_data//val'\n",
    "val_path = 'Project_data/val'\n",
    "num_train_sequences = len(train_doc)\n",
    "print('# training sequences =', num_train_sequences)\n",
    "num_val_sequences = len(val_doc)\n",
    "print('# validation sequences =', num_val_sequences)\n",
    "num_epochs = 50 # choose the number of epochs\n",
    "print ('# epochs =', num_epochs)"
   ]
  },
  {
   "cell_type": "code",
   "execution_count": 19,
   "metadata": {},
   "outputs": [
    {
     "name": "stderr",
     "output_type": "stream",
     "text": [
      "Executing Pipeline:   0%|          | 0/30 [00:00<?, ? Samples/s]"
     ]
    },
    {
     "name": "stdout",
     "output_type": "stream",
     "text": [
      "Project_data/val/WIN_20180926_17_24_20_Pro_Thumbs_Down_new/\n",
      "Initialised with 30 image(s) found.\n",
      "Output directory set to Project_data/val/WIN_20180926_17_24_20_Pro_Thumbs_Down_new/output."
     ]
    },
    {
     "name": "stderr",
     "output_type": "stream",
     "text": [
      "\n"
     ]
    },
    {
     "ename": "AttributeError",
     "evalue": "'FileNotFoundError' object has no attribute 'message'",
     "output_type": "error",
     "traceback": [
      "\u001b[1;31m---------------------------------------------------------------------------\u001b[0m",
      "\u001b[1;31mFileNotFoundError\u001b[0m                         Traceback (most recent call last)",
      "\u001b[1;32m~\\Anaconda3\\lib\\site-packages\\Augmentor\\Pipeline.py\u001b[0m in \u001b[0;36m_execute\u001b[1;34m(self, augmentor_image, save_to_disk, multi_threaded)\u001b[0m\n\u001b[0;32m    250\u001b[0m \u001b[1;33m\u001b[0m\u001b[0m\n\u001b[1;32m--> 251\u001b[1;33m                         \u001b[0mimages\u001b[0m\u001b[1;33m[\u001b[0m\u001b[0mi\u001b[0m\u001b[1;33m]\u001b[0m\u001b[1;33m.\u001b[0m\u001b[0msave\u001b[0m\u001b[1;33m(\u001b[0m\u001b[0mos\u001b[0m\u001b[1;33m.\u001b[0m\u001b[0mpath\u001b[0m\u001b[1;33m.\u001b[0m\u001b[0mjoin\u001b[0m\u001b[1;33m(\u001b[0m\u001b[0maugmentor_image\u001b[0m\u001b[1;33m.\u001b[0m\u001b[0moutput_directory\u001b[0m\u001b[1;33m,\u001b[0m \u001b[0msave_name\u001b[0m\u001b[1;33m)\u001b[0m\u001b[1;33m)\u001b[0m\u001b[1;33m\u001b[0m\u001b[1;33m\u001b[0m\u001b[0m\n\u001b[0m\u001b[0;32m    252\u001b[0m \u001b[1;33m\u001b[0m\u001b[0m\n",
      "\u001b[1;32m~\\Anaconda3\\lib\\site-packages\\PIL\\Image.py\u001b[0m in \u001b[0;36msave\u001b[1;34m(self, fp, format, **params)\u001b[0m\n\u001b[0;32m   2147\u001b[0m             \u001b[1;32melse\u001b[0m\u001b[1;33m:\u001b[0m\u001b[1;33m\u001b[0m\u001b[1;33m\u001b[0m\u001b[0m\n\u001b[1;32m-> 2148\u001b[1;33m                 \u001b[0mfp\u001b[0m \u001b[1;33m=\u001b[0m \u001b[0mbuiltins\u001b[0m\u001b[1;33m.\u001b[0m\u001b[0mopen\u001b[0m\u001b[1;33m(\u001b[0m\u001b[0mfilename\u001b[0m\u001b[1;33m,\u001b[0m \u001b[1;34m\"w+b\"\u001b[0m\u001b[1;33m)\u001b[0m\u001b[1;33m\u001b[0m\u001b[1;33m\u001b[0m\u001b[0m\n\u001b[0m\u001b[0;32m   2149\u001b[0m \u001b[1;33m\u001b[0m\u001b[0m\n",
      "\u001b[1;31mFileNotFoundError\u001b[0m: [Errno 2] No such file or directory: 'C:\\\\Users\\\\mukul\\\\OneDrive\\\\Desktop\\\\AI _ ML\\\\Deep Learning\\\\Gesture Recognition\\\\Project_data\\\\val\\\\WIN_20180926_17_24_20_Pro_Thumbs_Down_new\\\\output\\\\WIN_20180926_17_24_20_Pro_Thumbs_Down_new_original_WIN_20180926_17_24_20_Pro_00037.png_86fc9403-a001-4a2b-a5d5-2df91d7a411d.png'",
      "\nDuring handling of the above exception, another exception occurred:\n",
      "\u001b[1;31mAttributeError\u001b[0m                            Traceback (most recent call last)",
      "\u001b[1;32m<ipython-input-19-b374128e2152>\u001b[0m in \u001b[0;36m<module>\u001b[1;34m\u001b[0m\n\u001b[0;32m      5\u001b[0m     \u001b[0mp\u001b[0m \u001b[1;33m=\u001b[0m \u001b[0mAugmentor\u001b[0m\u001b[1;33m.\u001b[0m\u001b[0mPipeline\u001b[0m\u001b[1;33m(\u001b[0m\u001b[0mstr\u001b[0m\u001b[1;33m(\u001b[0m\u001b[0mval_path\u001b[0m\u001b[1;33m)\u001b[0m \u001b[1;33m+\u001b[0m \u001b[1;34m\"/\"\u001b[0m \u001b[1;33m+\u001b[0m \u001b[0mval_doc\u001b[0m\u001b[1;33m[\u001b[0m\u001b[0mi\u001b[0m\u001b[1;33m]\u001b[0m\u001b[1;33m.\u001b[0m\u001b[0mstrip\u001b[0m\u001b[1;33m(\u001b[0m\u001b[1;33m)\u001b[0m\u001b[1;33m.\u001b[0m\u001b[0msplit\u001b[0m\u001b[1;33m(\u001b[0m\u001b[1;34m';'\u001b[0m\u001b[1;33m)\u001b[0m\u001b[1;33m[\u001b[0m\u001b[1;36m0\u001b[0m\u001b[1;33m]\u001b[0m \u001b[1;33m+\u001b[0m \u001b[1;34m\"/\"\u001b[0m\u001b[1;33m)\u001b[0m\u001b[1;33m\u001b[0m\u001b[1;33m\u001b[0m\u001b[0m\n\u001b[0;32m      6\u001b[0m     \u001b[0mp\u001b[0m\u001b[1;33m.\u001b[0m\u001b[0mrotate\u001b[0m\u001b[1;33m(\u001b[0m\u001b[0mprobability\u001b[0m\u001b[1;33m=\u001b[0m\u001b[1;36m0.7\u001b[0m\u001b[1;33m,\u001b[0m \u001b[0mmax_left_rotation\u001b[0m\u001b[1;33m=\u001b[0m\u001b[1;36m10\u001b[0m\u001b[1;33m,\u001b[0m \u001b[0mmax_right_rotation\u001b[0m\u001b[1;33m=\u001b[0m\u001b[1;36m10\u001b[0m\u001b[1;33m)\u001b[0m\u001b[1;33m\u001b[0m\u001b[1;33m\u001b[0m\u001b[0m\n\u001b[1;32m----> 7\u001b[1;33m     \u001b[0mp\u001b[0m\u001b[1;33m.\u001b[0m\u001b[0msample\u001b[0m\u001b[1;33m(\u001b[0m\u001b[1;36m30\u001b[0m\u001b[1;33m)\u001b[0m \u001b[1;31m## We are adding 30 samples per class to make sure that none of the classes are sparse.\u001b[0m\u001b[1;33m\u001b[0m\u001b[1;33m\u001b[0m\u001b[0m\n\u001b[0m",
      "\u001b[1;32m~\\Anaconda3\\lib\\site-packages\\Augmentor\\Pipeline.py\u001b[0m in \u001b[0;36msample\u001b[1;34m(self, n, multi_threaded)\u001b[0m\n\u001b[0;32m    362\u001b[0m             \u001b[1;32mwith\u001b[0m \u001b[0mtqdm\u001b[0m\u001b[1;33m(\u001b[0m\u001b[0mtotal\u001b[0m\u001b[1;33m=\u001b[0m\u001b[0mlen\u001b[0m\u001b[1;33m(\u001b[0m\u001b[0maugmentor_images\u001b[0m\u001b[1;33m)\u001b[0m\u001b[1;33m,\u001b[0m \u001b[0mdesc\u001b[0m\u001b[1;33m=\u001b[0m\u001b[1;34m\"Executing Pipeline\"\u001b[0m\u001b[1;33m,\u001b[0m \u001b[0munit\u001b[0m\u001b[1;33m=\u001b[0m\u001b[1;34m\" Samples\"\u001b[0m\u001b[1;33m)\u001b[0m \u001b[1;32mas\u001b[0m \u001b[0mprogress_bar\u001b[0m\u001b[1;33m:\u001b[0m\u001b[1;33m\u001b[0m\u001b[1;33m\u001b[0m\u001b[0m\n\u001b[0;32m    363\u001b[0m                 \u001b[1;32mwith\u001b[0m \u001b[0mThreadPoolExecutor\u001b[0m\u001b[1;33m(\u001b[0m\u001b[0mmax_workers\u001b[0m\u001b[1;33m=\u001b[0m\u001b[1;32mNone\u001b[0m\u001b[1;33m)\u001b[0m \u001b[1;32mas\u001b[0m \u001b[0mexecutor\u001b[0m\u001b[1;33m:\u001b[0m\u001b[1;33m\u001b[0m\u001b[1;33m\u001b[0m\u001b[0m\n\u001b[1;32m--> 364\u001b[1;33m                     \u001b[1;32mfor\u001b[0m \u001b[0mresult\u001b[0m \u001b[1;32min\u001b[0m \u001b[0mexecutor\u001b[0m\u001b[1;33m.\u001b[0m\u001b[0mmap\u001b[0m\u001b[1;33m(\u001b[0m\u001b[0mself\u001b[0m\u001b[1;33m,\u001b[0m \u001b[0maugmentor_images\u001b[0m\u001b[1;33m)\u001b[0m\u001b[1;33m:\u001b[0m\u001b[1;33m\u001b[0m\u001b[1;33m\u001b[0m\u001b[0m\n\u001b[0m\u001b[0;32m    365\u001b[0m                         \u001b[0mprogress_bar\u001b[0m\u001b[1;33m.\u001b[0m\u001b[0mset_description\u001b[0m\u001b[1;33m(\u001b[0m\u001b[1;34m\"Processing %s\"\u001b[0m \u001b[1;33m%\u001b[0m \u001b[0mresult\u001b[0m\u001b[1;33m)\u001b[0m\u001b[1;33m\u001b[0m\u001b[1;33m\u001b[0m\u001b[0m\n\u001b[0;32m    366\u001b[0m                         \u001b[0mprogress_bar\u001b[0m\u001b[1;33m.\u001b[0m\u001b[0mupdate\u001b[0m\u001b[1;33m(\u001b[0m\u001b[1;36m1\u001b[0m\u001b[1;33m)\u001b[0m\u001b[1;33m\u001b[0m\u001b[1;33m\u001b[0m\u001b[0m\n",
      "\u001b[1;32m~\\Anaconda3\\lib\\concurrent\\futures\\_base.py\u001b[0m in \u001b[0;36mresult_iterator\u001b[1;34m()\u001b[0m\n\u001b[0;32m    609\u001b[0m                     \u001b[1;31m# Careful not to keep a reference to the popped future\u001b[0m\u001b[1;33m\u001b[0m\u001b[1;33m\u001b[0m\u001b[1;33m\u001b[0m\u001b[0m\n\u001b[0;32m    610\u001b[0m                     \u001b[1;32mif\u001b[0m \u001b[0mtimeout\u001b[0m \u001b[1;32mis\u001b[0m \u001b[1;32mNone\u001b[0m\u001b[1;33m:\u001b[0m\u001b[1;33m\u001b[0m\u001b[1;33m\u001b[0m\u001b[0m\n\u001b[1;32m--> 611\u001b[1;33m                         \u001b[1;32myield\u001b[0m \u001b[0mfs\u001b[0m\u001b[1;33m.\u001b[0m\u001b[0mpop\u001b[0m\u001b[1;33m(\u001b[0m\u001b[1;33m)\u001b[0m\u001b[1;33m.\u001b[0m\u001b[0mresult\u001b[0m\u001b[1;33m(\u001b[0m\u001b[1;33m)\u001b[0m\u001b[1;33m\u001b[0m\u001b[1;33m\u001b[0m\u001b[0m\n\u001b[0m\u001b[0;32m    612\u001b[0m                     \u001b[1;32melse\u001b[0m\u001b[1;33m:\u001b[0m\u001b[1;33m\u001b[0m\u001b[1;33m\u001b[0m\u001b[0m\n\u001b[0;32m    613\u001b[0m                         \u001b[1;32myield\u001b[0m \u001b[0mfs\u001b[0m\u001b[1;33m.\u001b[0m\u001b[0mpop\u001b[0m\u001b[1;33m(\u001b[0m\u001b[1;33m)\u001b[0m\u001b[1;33m.\u001b[0m\u001b[0mresult\u001b[0m\u001b[1;33m(\u001b[0m\u001b[0mend_time\u001b[0m \u001b[1;33m-\u001b[0m \u001b[0mtime\u001b[0m\u001b[1;33m.\u001b[0m\u001b[0mmonotonic\u001b[0m\u001b[1;33m(\u001b[0m\u001b[1;33m)\u001b[0m\u001b[1;33m)\u001b[0m\u001b[1;33m\u001b[0m\u001b[1;33m\u001b[0m\u001b[0m\n",
      "\u001b[1;32m~\\Anaconda3\\lib\\concurrent\\futures\\_base.py\u001b[0m in \u001b[0;36mresult\u001b[1;34m(self, timeout)\u001b[0m\n\u001b[0;32m    430\u001b[0m                 \u001b[1;32mraise\u001b[0m \u001b[0mCancelledError\u001b[0m\u001b[1;33m(\u001b[0m\u001b[1;33m)\u001b[0m\u001b[1;33m\u001b[0m\u001b[1;33m\u001b[0m\u001b[0m\n\u001b[0;32m    431\u001b[0m             \u001b[1;32melif\u001b[0m \u001b[0mself\u001b[0m\u001b[1;33m.\u001b[0m\u001b[0m_state\u001b[0m \u001b[1;33m==\u001b[0m \u001b[0mFINISHED\u001b[0m\u001b[1;33m:\u001b[0m\u001b[1;33m\u001b[0m\u001b[1;33m\u001b[0m\u001b[0m\n\u001b[1;32m--> 432\u001b[1;33m                 \u001b[1;32mreturn\u001b[0m \u001b[0mself\u001b[0m\u001b[1;33m.\u001b[0m\u001b[0m__get_result\u001b[0m\u001b[1;33m(\u001b[0m\u001b[1;33m)\u001b[0m\u001b[1;33m\u001b[0m\u001b[1;33m\u001b[0m\u001b[0m\n\u001b[0m\u001b[0;32m    433\u001b[0m \u001b[1;33m\u001b[0m\u001b[0m\n\u001b[0;32m    434\u001b[0m             \u001b[0mself\u001b[0m\u001b[1;33m.\u001b[0m\u001b[0m_condition\u001b[0m\u001b[1;33m.\u001b[0m\u001b[0mwait\u001b[0m\u001b[1;33m(\u001b[0m\u001b[0mtimeout\u001b[0m\u001b[1;33m)\u001b[0m\u001b[1;33m\u001b[0m\u001b[1;33m\u001b[0m\u001b[0m\n",
      "\u001b[1;32m~\\Anaconda3\\lib\\concurrent\\futures\\_base.py\u001b[0m in \u001b[0;36m__get_result\u001b[1;34m(self)\u001b[0m\n\u001b[0;32m    386\u001b[0m     \u001b[1;32mdef\u001b[0m \u001b[0m__get_result\u001b[0m\u001b[1;33m(\u001b[0m\u001b[0mself\u001b[0m\u001b[1;33m)\u001b[0m\u001b[1;33m:\u001b[0m\u001b[1;33m\u001b[0m\u001b[1;33m\u001b[0m\u001b[0m\n\u001b[0;32m    387\u001b[0m         \u001b[1;32mif\u001b[0m \u001b[0mself\u001b[0m\u001b[1;33m.\u001b[0m\u001b[0m_exception\u001b[0m\u001b[1;33m:\u001b[0m\u001b[1;33m\u001b[0m\u001b[1;33m\u001b[0m\u001b[0m\n\u001b[1;32m--> 388\u001b[1;33m             \u001b[1;32mraise\u001b[0m \u001b[0mself\u001b[0m\u001b[1;33m.\u001b[0m\u001b[0m_exception\u001b[0m\u001b[1;33m\u001b[0m\u001b[1;33m\u001b[0m\u001b[0m\n\u001b[0m\u001b[0;32m    389\u001b[0m         \u001b[1;32melse\u001b[0m\u001b[1;33m:\u001b[0m\u001b[1;33m\u001b[0m\u001b[1;33m\u001b[0m\u001b[0m\n\u001b[0;32m    390\u001b[0m             \u001b[1;32mreturn\u001b[0m \u001b[0mself\u001b[0m\u001b[1;33m.\u001b[0m\u001b[0m_result\u001b[0m\u001b[1;33m\u001b[0m\u001b[1;33m\u001b[0m\u001b[0m\n",
      "\u001b[1;32m~\\Anaconda3\\lib\\concurrent\\futures\\thread.py\u001b[0m in \u001b[0;36mrun\u001b[1;34m(self)\u001b[0m\n\u001b[0;32m     55\u001b[0m \u001b[1;33m\u001b[0m\u001b[0m\n\u001b[0;32m     56\u001b[0m         \u001b[1;32mtry\u001b[0m\u001b[1;33m:\u001b[0m\u001b[1;33m\u001b[0m\u001b[1;33m\u001b[0m\u001b[0m\n\u001b[1;32m---> 57\u001b[1;33m             \u001b[0mresult\u001b[0m \u001b[1;33m=\u001b[0m \u001b[0mself\u001b[0m\u001b[1;33m.\u001b[0m\u001b[0mfn\u001b[0m\u001b[1;33m(\u001b[0m\u001b[1;33m*\u001b[0m\u001b[0mself\u001b[0m\u001b[1;33m.\u001b[0m\u001b[0margs\u001b[0m\u001b[1;33m,\u001b[0m \u001b[1;33m**\u001b[0m\u001b[0mself\u001b[0m\u001b[1;33m.\u001b[0m\u001b[0mkwargs\u001b[0m\u001b[1;33m)\u001b[0m\u001b[1;33m\u001b[0m\u001b[1;33m\u001b[0m\u001b[0m\n\u001b[0m\u001b[0;32m     58\u001b[0m         \u001b[1;32mexcept\u001b[0m \u001b[0mBaseException\u001b[0m \u001b[1;32mas\u001b[0m \u001b[0mexc\u001b[0m\u001b[1;33m:\u001b[0m\u001b[1;33m\u001b[0m\u001b[1;33m\u001b[0m\u001b[0m\n\u001b[0;32m     59\u001b[0m             \u001b[0mself\u001b[0m\u001b[1;33m.\u001b[0m\u001b[0mfuture\u001b[0m\u001b[1;33m.\u001b[0m\u001b[0mset_exception\u001b[0m\u001b[1;33m(\u001b[0m\u001b[0mexc\u001b[0m\u001b[1;33m)\u001b[0m\u001b[1;33m\u001b[0m\u001b[1;33m\u001b[0m\u001b[0m\n",
      "\u001b[1;32m~\\Anaconda3\\lib\\site-packages\\Augmentor\\Pipeline.py\u001b[0m in \u001b[0;36m__call__\u001b[1;34m(self, augmentor_image)\u001b[0m\n\u001b[0;32m    103\u001b[0m         \u001b[1;33m:\u001b[0m\u001b[1;32mreturn\u001b[0m\u001b[1;33m:\u001b[0m \u001b[1;32mNone\u001b[0m\u001b[1;33m\u001b[0m\u001b[1;33m\u001b[0m\u001b[0m\n\u001b[0;32m    104\u001b[0m         \"\"\"\n\u001b[1;32m--> 105\u001b[1;33m         \u001b[1;32mreturn\u001b[0m \u001b[0mself\u001b[0m\u001b[1;33m.\u001b[0m\u001b[0m_execute\u001b[0m\u001b[1;33m(\u001b[0m\u001b[0maugmentor_image\u001b[0m\u001b[1;33m)\u001b[0m\u001b[1;33m\u001b[0m\u001b[1;33m\u001b[0m\u001b[0m\n\u001b[0m\u001b[0;32m    106\u001b[0m \u001b[1;33m\u001b[0m\u001b[0m\n\u001b[0;32m    107\u001b[0m     \u001b[1;32mdef\u001b[0m \u001b[0m_populate\u001b[0m\u001b[1;33m(\u001b[0m\u001b[0mself\u001b[0m\u001b[1;33m,\u001b[0m \u001b[0msource_directory\u001b[0m\u001b[1;33m,\u001b[0m \u001b[0moutput_directory\u001b[0m\u001b[1;33m,\u001b[0m \u001b[0mground_truth_directory\u001b[0m\u001b[1;33m,\u001b[0m \u001b[0mground_truth_output_directory\u001b[0m\u001b[1;33m)\u001b[0m\u001b[1;33m:\u001b[0m\u001b[1;33m\u001b[0m\u001b[1;33m\u001b[0m\u001b[0m\n",
      "\u001b[1;32m~\\Anaconda3\\lib\\site-packages\\Augmentor\\Pipeline.py\u001b[0m in \u001b[0;36m_execute\u001b[1;34m(self, augmentor_image, save_to_disk, multi_threaded)\u001b[0m\n\u001b[0;32m    266\u001b[0m \u001b[1;33m\u001b[0m\u001b[0m\n\u001b[0;32m    267\u001b[0m             \u001b[1;32mexcept\u001b[0m \u001b[0mIOError\u001b[0m \u001b[1;32mas\u001b[0m \u001b[0me\u001b[0m\u001b[1;33m:\u001b[0m\u001b[1;33m\u001b[0m\u001b[1;33m\u001b[0m\u001b[0m\n\u001b[1;32m--> 268\u001b[1;33m                 \u001b[0mprint\u001b[0m\u001b[1;33m(\u001b[0m\u001b[1;34m\"Error writing %s, %s. Change save_format to PNG?\"\u001b[0m \u001b[1;33m%\u001b[0m \u001b[1;33m(\u001b[0m\u001b[0mfile_name\u001b[0m\u001b[1;33m,\u001b[0m \u001b[0me\u001b[0m\u001b[1;33m.\u001b[0m\u001b[0mmessage\u001b[0m\u001b[1;33m)\u001b[0m\u001b[1;33m)\u001b[0m\u001b[1;33m\u001b[0m\u001b[1;33m\u001b[0m\u001b[0m\n\u001b[0m\u001b[0;32m    269\u001b[0m                 \u001b[0mprint\u001b[0m\u001b[1;33m(\u001b[0m\u001b[1;34m\"You can change the save format using the set_save_format(save_format) function.\"\u001b[0m\u001b[1;33m)\u001b[0m\u001b[1;33m\u001b[0m\u001b[1;33m\u001b[0m\u001b[0m\n\u001b[0;32m    270\u001b[0m                 \u001b[0mprint\u001b[0m\u001b[1;33m(\u001b[0m\u001b[1;34m\"By passing save_format=\\\"auto\\\", Augmentor can save in the correct format automatically.\"\u001b[0m\u001b[1;33m)\u001b[0m\u001b[1;33m\u001b[0m\u001b[1;33m\u001b[0m\u001b[0m\n",
      "\u001b[1;31mAttributeError\u001b[0m: 'FileNotFoundError' object has no attribute 'message'"
     ]
    }
   ],
   "source": [
    "path_to_training_dataset=val_path\n",
    "import Augmentor\n",
    "for i in (0,num_train_sequences):\n",
    "    print((str(val_path) + \"/\" + val_doc[i].strip().split(';')[0]) + \"/\")\n",
    "    p = Augmentor.Pipeline(str(val_path) + \"/\" + val_doc[i].strip().split(';')[0] + \"/\")\n",
    "    p.rotate(probability=0.7, max_left_rotation=10, max_right_rotation=10)\n",
    "    p.sample(30) ## We are adding 30 samples per class to make sure that none of the classes are sparse."
   ]
  },
  {
   "cell_type": "code",
   "execution_count": 8,
   "metadata": {},
   "outputs": [],
   "source": [
    "# plot a sample image\n",
    "#import glob\n",
    "#import os\n",
    "#from skimage import io\n",
    "\n",
    "#img_path = os.path.join(train_path, train_doc[2].strip().split(';')[0], '*')\n",
    "#print(img_path)\n",
    "#img_path = glob.glob(img_path)\n",
    "#print(img_path)\n",
    "\n",
    "# access some element (a file) from the list\n",
    "#for i in range(0,29):\n",
    "#    image = io.imread(img_path[i])\n",
    "#    plt.imshow(image)\n",
    "    #ax.imshow(image)\n",
    "#    plt.show()"
   ]
  },
  {
   "cell_type": "markdown",
   "metadata": {},
   "source": [
    "## Model\n",
    "Here you make the model using different functionalities that Keras provides. Remember to use `Conv3D` and `MaxPooling3D` and not `Conv2D` and `Maxpooling2D` for a 3D convolution model. You would want to use `TimeDistributed` while building a Conv2D + RNN model. Also remember that the last layer is the softmax. Design the network in such a way that the model is able to give good accuracy on the least number of parameters so that it can fit in the memory of the webcam."
   ]
  },
  {
   "cell_type": "code",
   "execution_count": 9,
   "metadata": {},
   "outputs": [],
   "source": [
    "img_height = 84 \n",
    "img_width = 84\n",
    "num_img = 18"
   ]
  },
  {
   "cell_type": "code",
   "execution_count": 10,
   "metadata": {},
   "outputs": [
    {
     "name": "stdout",
     "output_type": "stream",
     "text": [
      "Model: \"sequential\"\n",
      "_________________________________________________________________\n",
      "Layer (type)                 Output Shape              Param #   \n",
      "=================================================================\n",
      "conv3d (Conv3D)              (None, 18, 84, 84, 32)    2624      \n",
      "_________________________________________________________________\n",
      "batch_normalization (BatchNo (None, 18, 84, 84, 32)    128       \n",
      "_________________________________________________________________\n",
      "max_pooling3d (MaxPooling3D) (None, 9, 42, 42, 32)     0         \n",
      "_________________________________________________________________\n",
      "conv3d_1 (Conv3D)            (None, 9, 42, 42, 64)     55360     \n",
      "_________________________________________________________________\n",
      "batch_normalization_1 (Batch (None, 9, 42, 42, 64)     256       \n",
      "_________________________________________________________________\n",
      "max_pooling3d_1 (MaxPooling3 (None, 4, 21, 21, 64)     0         \n",
      "_________________________________________________________________\n",
      "conv3d_2 (Conv3D)            (None, 4, 21, 21, 128)    221312    \n",
      "_________________________________________________________________\n",
      "batch_normalization_2 (Batch (None, 4, 21, 21, 128)    512       \n",
      "_________________________________________________________________\n",
      "max_pooling3d_2 (MaxPooling3 (None, 2, 10, 10, 128)    0         \n",
      "_________________________________________________________________\n",
      "conv3d_3 (Conv3D)            (None, 2, 10, 10, 256)    884992    \n",
      "_________________________________________________________________\n",
      "batch_normalization_3 (Batch (None, 2, 10, 10, 256)    1024      \n",
      "_________________________________________________________________\n",
      "max_pooling3d_3 (MaxPooling3 (None, 1, 5, 5, 256)      0         \n",
      "_________________________________________________________________\n",
      "flatten (Flatten)            (None, 6400)              0         \n",
      "_________________________________________________________________\n",
      "dropout (Dropout)            (None, 6400)              0         \n",
      "_________________________________________________________________\n",
      "dense (Dense)                (None, 512)               3277312   \n",
      "_________________________________________________________________\n",
      "dropout_1 (Dropout)          (None, 512)               0         \n",
      "_________________________________________________________________\n",
      "dense_1 (Dense)              (None, 5)                 2565      \n",
      "=================================================================\n",
      "Total params: 4,446,085\n",
      "Trainable params: 4,445,125\n",
      "Non-trainable params: 960\n",
      "_________________________________________________________________\n"
     ]
    }
   ],
   "source": [
    "from keras.models import Sequential, Model\n",
    "from keras.layers import Dense, GRU, Flatten, TimeDistributed, BatchNormalization, Activation, Dropout\n",
    "from keras.layers.convolutional import Conv3D, MaxPooling3D\n",
    "from keras.callbacks import ModelCheckpoint, ReduceLROnPlateau\n",
    "from keras import optimizers\n",
    "\n",
    "#write your model here\n",
    "model = Sequential()\n",
    "\n",
    "model.add(Conv3D(32, kernel_size=(3, 3, 3),activation='relu',padding='same', input_shape=(num_img,img_height,img_width,3)))\n",
    "model.add(BatchNormalization()),\n",
    "model.add(MaxPooling3D(pool_size=(2, 2, 2)))\n",
    "#model.add(Dropout(0.25))\n",
    "\n",
    "model.add(Conv3D(64, kernel_size=(3, 3, 3),activation='relu', padding='same'))\n",
    "model.add(BatchNormalization()),\n",
    "model.add(MaxPooling3D(pool_size=(2, 2, 2)))\n",
    "#model.add(Dropout(0.25))\n",
    "\n",
    "model.add(Conv3D(128, kernel_size=(3, 3, 3),activation='relu', padding='same'))\n",
    "model.add(BatchNormalization()),\n",
    "model.add(MaxPooling3D(pool_size=(2, 2, 2)))\n",
    "#model.add(Dropout(0.25))\n",
    "\n",
    "model.add(Conv3D(256, kernel_size=(3, 3, 3),activation='relu', padding='same'))\n",
    "model.add(BatchNormalization()),\n",
    "model.add(MaxPooling3D(pool_size=(2, 2, 2)))\n",
    "#model.add(Dropout(0.25))\n",
    "\n",
    "model.add(Flatten())\n",
    "model.add(Dropout(0.5))\n",
    "model.add(Dense(512, activation='relu')) \n",
    "model.add(Dropout(0.5))\n",
    "model.add(Dense(5, activation='softmax'))\n",
    "model.summary()"
   ]
  },
  {
   "cell_type": "markdown",
   "metadata": {},
   "source": [
    "Now that you have written the model, the next step is to `compile` the model. When you print the `summary` of the model, you'll see the total number of parameters you have to train."
   ]
  },
  {
   "cell_type": "code",
   "execution_count": 11,
   "metadata": {
    "scrolled": true
   },
   "outputs": [
    {
     "name": "stdout",
     "output_type": "stream",
     "text": [
      "Model: \"sequential\"\n",
      "_________________________________________________________________\n",
      "Layer (type)                 Output Shape              Param #   \n",
      "=================================================================\n",
      "conv3d (Conv3D)              (None, 18, 84, 84, 32)    2624      \n",
      "_________________________________________________________________\n",
      "batch_normalization (BatchNo (None, 18, 84, 84, 32)    128       \n",
      "_________________________________________________________________\n",
      "max_pooling3d (MaxPooling3D) (None, 9, 42, 42, 32)     0         \n",
      "_________________________________________________________________\n",
      "conv3d_1 (Conv3D)            (None, 9, 42, 42, 64)     55360     \n",
      "_________________________________________________________________\n",
      "batch_normalization_1 (Batch (None, 9, 42, 42, 64)     256       \n",
      "_________________________________________________________________\n",
      "max_pooling3d_1 (MaxPooling3 (None, 4, 21, 21, 64)     0         \n",
      "_________________________________________________________________\n",
      "conv3d_2 (Conv3D)            (None, 4, 21, 21, 128)    221312    \n",
      "_________________________________________________________________\n",
      "batch_normalization_2 (Batch (None, 4, 21, 21, 128)    512       \n",
      "_________________________________________________________________\n",
      "max_pooling3d_2 (MaxPooling3 (None, 2, 10, 10, 128)    0         \n",
      "_________________________________________________________________\n",
      "conv3d_3 (Conv3D)            (None, 2, 10, 10, 256)    884992    \n",
      "_________________________________________________________________\n",
      "batch_normalization_3 (Batch (None, 2, 10, 10, 256)    1024      \n",
      "_________________________________________________________________\n",
      "max_pooling3d_3 (MaxPooling3 (None, 1, 5, 5, 256)      0         \n",
      "_________________________________________________________________\n",
      "flatten (Flatten)            (None, 6400)              0         \n",
      "_________________________________________________________________\n",
      "dropout (Dropout)            (None, 6400)              0         \n",
      "_________________________________________________________________\n",
      "dense (Dense)                (None, 512)               3277312   \n",
      "_________________________________________________________________\n",
      "dropout_1 (Dropout)          (None, 512)               0         \n",
      "_________________________________________________________________\n",
      "dense_1 (Dense)              (None, 5)                 2565      \n",
      "=================================================================\n",
      "Total params: 4,446,085\n",
      "Trainable params: 4,445,125\n",
      "Non-trainable params: 960\n",
      "_________________________________________________________________\n",
      "None\n"
     ]
    }
   ],
   "source": [
    "#optimiser = tf.keras.optimizers.Adam() #write your optimizer\n",
    "sgd = optimizers.SGD(lr=0.001, decay=1e-6, momentum=0.7, nesterov=True)\n",
    "model.compile(optimizer=sgd, loss='categorical_crossentropy', metrics=['categorical_accuracy'])\n",
    "print (model.summary())"
   ]
  },
  {
   "cell_type": "markdown",
   "metadata": {},
   "source": [
    "Let us create the `train_generator` and the `val_generator` which will be used in `.fit_generator`."
   ]
  },
  {
   "cell_type": "code",
   "execution_count": 12,
   "metadata": {},
   "outputs": [],
   "source": [
    "train_generator = generator(train_path, train_doc, batch_size)\n",
    "val_generator = generator(val_path, val_doc, batch_size)"
   ]
  },
  {
   "cell_type": "code",
   "execution_count": 13,
   "metadata": {},
   "outputs": [
    {
     "name": "stdout",
     "output_type": "stream",
     "text": [
      "WARNING:tensorflow:`period` argument is deprecated. Please use `save_freq` to specify the frequency in number of batches seen.\n",
      "WARNING:tensorflow:`epsilon` argument is deprecated and will be removed, use `min_delta` instead.\n"
     ]
    }
   ],
   "source": [
    "model_name = 'model_init' + '_' + str(curr_dt_time).replace(' ','').replace(':','_') + '/'\n",
    "    \n",
    "if not os.path.exists(model_name):\n",
    "    os.mkdir(model_name)\n",
    "        \n",
    "filepath = model_name + 'model-{epoch:05d}-{loss:.5f}-{categorical_accuracy:.5f}-{val_loss:.5f}-{val_categorical_accuracy:.5f}.h5'\n",
    "\n",
    "checkpoint = ModelCheckpoint(filepath, monitor='val_loss', verbose=1, save_best_only=True, save_weights_only=False, mode='auto', period=1)\n",
    "\n",
    "LR = ReduceLROnPlateau(monitor='val_loss', factor=0.2, patience=2, verbose=1, mode='min', epsilon=0.0001, cooldown=0,min_lr=0.0001)\n",
    "\n",
    "callbacks_list = [checkpoint, LR]"
   ]
  },
  {
   "cell_type": "markdown",
   "metadata": {},
   "source": [
    "The `steps_per_epoch` and `validation_steps` are used by `fit_generator` to decide the number of next() calls it need to make."
   ]
  },
  {
   "cell_type": "code",
   "execution_count": 14,
   "metadata": {},
   "outputs": [
    {
     "name": "stdout",
     "output_type": "stream",
     "text": [
      "2\n",
      "100\n",
      "64\n"
     ]
    }
   ],
   "source": [
    "if (num_train_sequences%batch_size) == 0:\n",
    "    steps_per_epoch = int(num_train_sequences/batch_size)\n",
    "else:\n",
    "    steps_per_epoch = (num_train_sequences//batch_size) + 1\n",
    "\n",
    "if (num_val_sequences%batch_size) == 0:\n",
    "    validation_steps = int(num_val_sequences/batch_size)\n",
    "else:\n",
    "    validation_steps = (num_val_sequences//batch_size) + 1\n",
    "\n",
    "print(validation_steps) \n",
    "print(num_val_sequences)\n",
    "print(batch_size)\n",
    "# running only one batch \n",
    "#validation_steps = steps_per_epoch = 1"
   ]
  },
  {
   "cell_type": "markdown",
   "metadata": {},
   "source": [
    "Let us now fit the model. This will start training the model and with the help of the checkpoints, you'll be able to save the model at the end of each epoch."
   ]
  },
  {
   "cell_type": "code",
   "execution_count": 15,
   "metadata": {},
   "outputs": [
    {
     "name": "stdout",
     "output_type": "stream",
     "text": [
      "WARNING:tensorflow:From <ipython-input-15-bd77c9c60c14>:3: Model.fit_generator (from tensorflow.python.keras.engine.training) is deprecated and will be removed in a future version.\n",
      "Instructions for updating:\n",
      "Please use Model.fit, which supports generators.\n",
      "Source path =  /datasets/Project_data//train ; batch size = 64\n",
      "Epoch 1/50\n",
      "11/11 [==============================] - ETA: 0s - loss: 4.9963 - categorical_accuracy: 0.2036Source path =  /datasets/Project_data//val ; batch size = 64\n",
      "\n",
      "Epoch 00001: val_loss improved from inf to 22.24662, saving model to model_init_2021-07-2710_50_42.694723/model-00001-4.99628-0.20362-22.24662-0.20000.h5\n",
      "11/11 [==============================] - 26s 2s/step - loss: 4.9963 - categorical_accuracy: 0.2036 - val_loss: 22.2466 - val_categorical_accuracy: 0.2000\n",
      "Epoch 2/50\n",
      "11/11 [==============================] - ETA: 0s - loss: 2.3726 - categorical_accuracy: 0.3499\n",
      "Epoch 00002: val_loss improved from 22.24662 to 15.85768, saving model to model_init_2021-07-2710_50_42.694723/model-00002-2.37263-0.34992-15.85768-0.21000.h5\n",
      "11/11 [==============================] - 27s 2s/step - loss: 2.3726 - categorical_accuracy: 0.3499 - val_loss: 15.8577 - val_categorical_accuracy: 0.2100\n",
      "Epoch 3/50\n",
      "11/11 [==============================] - ETA: 0s - loss: 1.9123 - categorical_accuracy: 0.4193\n",
      "Epoch 00003: val_loss improved from 15.85768 to 10.63645, saving model to model_init_2021-07-2710_50_42.694723/model-00003-1.91227-0.41931-10.63645-0.30000.h5\n",
      "11/11 [==============================] - 27s 2s/step - loss: 1.9123 - categorical_accuracy: 0.4193 - val_loss: 10.6365 - val_categorical_accuracy: 0.3000\n",
      "Epoch 4/50\n",
      "11/11 [==============================] - ETA: 0s - loss: 1.6835 - categorical_accuracy: 0.4449\n",
      "Epoch 00004: val_loss did not improve from 10.63645\n",
      "11/11 [==============================] - 26s 2s/step - loss: 1.6835 - categorical_accuracy: 0.4449 - val_loss: 11.3601 - val_categorical_accuracy: 0.2100\n",
      "Epoch 5/50\n",
      "11/11 [==============================] - ETA: 0s - loss: 1.5963 - categorical_accuracy: 0.4495\n",
      "Epoch 00005: val_loss improved from 10.63645 to 7.88833, saving model to model_init_2021-07-2710_50_42.694723/model-00005-1.59633-0.44947-7.88833-0.22000.h5\n",
      "11/11 [==============================] - 28s 3s/step - loss: 1.5963 - categorical_accuracy: 0.4495 - val_loss: 7.8883 - val_categorical_accuracy: 0.2200\n",
      "Epoch 6/50\n",
      "11/11 [==============================] - ETA: 0s - loss: 1.4286 - categorical_accuracy: 0.4872\n",
      "Epoch 00006: val_loss improved from 7.88833 to 7.47614, saving model to model_init_2021-07-2710_50_42.694723/model-00006-1.42861-0.48718-7.47614-0.27000.h5\n",
      "11/11 [==============================] - 26s 2s/step - loss: 1.4286 - categorical_accuracy: 0.4872 - val_loss: 7.4761 - val_categorical_accuracy: 0.2700\n",
      "Epoch 7/50\n",
      "11/11 [==============================] - ETA: 0s - loss: 1.4126 - categorical_accuracy: 0.4600\n",
      "Epoch 00007: val_loss improved from 7.47614 to 5.71870, saving model to model_init_2021-07-2710_50_42.694723/model-00007-1.41259-0.46003-5.71870-0.24000.h5\n",
      "11/11 [==============================] - 27s 2s/step - loss: 1.4126 - categorical_accuracy: 0.4600 - val_loss: 5.7187 - val_categorical_accuracy: 0.2400\n",
      "Epoch 8/50\n",
      "11/11 [==============================] - ETA: 0s - loss: 1.2645 - categorical_accuracy: 0.5309\n",
      "Epoch 00008: val_loss improved from 5.71870 to 4.84684, saving model to model_init_2021-07-2710_50_42.694723/model-00008-1.26452-0.53092-4.84684-0.24000.h5\n",
      "11/11 [==============================] - 26s 2s/step - loss: 1.2645 - categorical_accuracy: 0.5309 - val_loss: 4.8468 - val_categorical_accuracy: 0.2400\n",
      "Epoch 9/50\n",
      "11/11 [==============================] - ETA: 0s - loss: 1.0585 - categorical_accuracy: 0.6109\n",
      "Epoch 00009: val_loss improved from 4.84684 to 4.81365, saving model to model_init_2021-07-2710_50_42.694723/model-00009-1.05848-0.61086-4.81365-0.23000.h5\n",
      "11/11 [==============================] - 28s 3s/step - loss: 1.0585 - categorical_accuracy: 0.6109 - val_loss: 4.8136 - val_categorical_accuracy: 0.2300\n",
      "Epoch 10/50\n",
      "11/11 [==============================] - ETA: 0s - loss: 1.0790 - categorical_accuracy: 0.5837\n",
      "Epoch 00010: val_loss did not improve from 4.81365\n",
      "11/11 [==============================] - 26s 2s/step - loss: 1.0790 - categorical_accuracy: 0.5837 - val_loss: 5.1334 - val_categorical_accuracy: 0.2200\n",
      "Epoch 11/50\n",
      "11/11 [==============================] - ETA: 0s - loss: 1.0509 - categorical_accuracy: 0.5913\n",
      "Epoch 00011: val_loss improved from 4.81365 to 4.51187, saving model to model_init_2021-07-2710_50_42.694723/model-00011-1.05089-0.59125-4.51187-0.26000.h5\n",
      "11/11 [==============================] - 27s 2s/step - loss: 1.0509 - categorical_accuracy: 0.5913 - val_loss: 4.5119 - val_categorical_accuracy: 0.2600\n",
      "Epoch 12/50\n",
      "11/11 [==============================] - ETA: 0s - loss: 0.9993 - categorical_accuracy: 0.6365\n",
      "Epoch 00012: val_loss improved from 4.51187 to 3.35033, saving model to model_init_2021-07-2710_50_42.694723/model-00012-0.99930-0.63650-3.35033-0.20000.h5\n",
      "11/11 [==============================] - 26s 2s/step - loss: 0.9993 - categorical_accuracy: 0.6365 - val_loss: 3.3503 - val_categorical_accuracy: 0.2000\n",
      "Epoch 13/50\n",
      "11/11 [==============================] - ETA: 0s - loss: 0.8751 - categorical_accuracy: 0.6576\n",
      "Epoch 00013: val_loss improved from 3.35033 to 2.27285, saving model to model_init_2021-07-2710_50_42.694723/model-00013-0.87512-0.65762-2.27285-0.25000.h5\n",
      "11/11 [==============================] - 28s 3s/step - loss: 0.8751 - categorical_accuracy: 0.6576 - val_loss: 2.2728 - val_categorical_accuracy: 0.2500\n",
      "Epoch 14/50\n",
      "11/11 [==============================] - ETA: 0s - loss: 0.8883 - categorical_accuracy: 0.6486\n",
      "Epoch 00014: val_loss improved from 2.27285 to 2.15419, saving model to model_init_2021-07-2710_50_42.694723/model-00014-0.88827-0.64857-2.15419-0.28000.h5\n",
      "11/11 [==============================] - 27s 2s/step - loss: 0.8883 - categorical_accuracy: 0.6486 - val_loss: 2.1542 - val_categorical_accuracy: 0.2800\n",
      "Epoch 15/50\n",
      "11/11 [==============================] - ETA: 0s - loss: 0.9343 - categorical_accuracy: 0.6471\n",
      "Epoch 00015: val_loss improved from 2.15419 to 1.80036, saving model to model_init_2021-07-2710_50_42.694723/model-00015-0.93430-0.64706-1.80036-0.34000.h5\n",
      "11/11 [==============================] - 27s 2s/step - loss: 0.9343 - categorical_accuracy: 0.6471 - val_loss: 1.8004 - val_categorical_accuracy: 0.3400\n",
      "Epoch 16/50\n",
      "11/11 [==============================] - ETA: 0s - loss: 0.8869 - categorical_accuracy: 0.6817\n",
      "Epoch 00016: val_loss improved from 1.80036 to 1.39248, saving model to model_init_2021-07-2710_50_42.694723/model-00016-0.88685-0.68175-1.39248-0.47000.h5\n",
      "11/11 [==============================] - 26s 2s/step - loss: 0.8869 - categorical_accuracy: 0.6817 - val_loss: 1.3925 - val_categorical_accuracy: 0.4700\n",
      "Epoch 17/50\n",
      "11/11 [==============================] - ETA: 0s - loss: 0.7702 - categorical_accuracy: 0.6923\n",
      "Epoch 00017: val_loss did not improve from 1.39248\n",
      "11/11 [==============================] - 27s 2s/step - loss: 0.7702 - categorical_accuracy: 0.6923 - val_loss: 1.6749 - val_categorical_accuracy: 0.3000\n",
      "Epoch 18/50\n",
      "11/11 [==============================] - ETA: 0s - loss: 0.7015 - categorical_accuracy: 0.7391\n",
      "Epoch 00018: val_loss improved from 1.39248 to 1.27349, saving model to model_init_2021-07-2710_50_42.694723/model-00018-0.70151-0.73906-1.27349-0.50000.h5\n",
      "11/11 [==============================] - 26s 2s/step - loss: 0.7015 - categorical_accuracy: 0.7391 - val_loss: 1.2735 - val_categorical_accuracy: 0.5000\n",
      "Epoch 19/50\n",
      "11/11 [==============================] - ETA: 0s - loss: 0.6894 - categorical_accuracy: 0.7315\n",
      "Epoch 00019: val_loss improved from 1.27349 to 1.21862, saving model to model_init_2021-07-2710_50_42.694723/model-00019-0.68937-0.73152-1.21862-0.54000.h5\n",
      "11/11 [==============================] - 27s 2s/step - loss: 0.6894 - categorical_accuracy: 0.7315 - val_loss: 1.2186 - val_categorical_accuracy: 0.5400\n",
      "Epoch 20/50\n",
      "11/11 [==============================] - ETA: 0s - loss: 0.6602 - categorical_accuracy: 0.7541\n",
      "Epoch 00020: val_loss improved from 1.21862 to 1.12833, saving model to model_init_2021-07-2710_50_42.694723/model-00020-0.66020-0.75415-1.12833-0.60000.h5\n",
      "11/11 [==============================] - 26s 2s/step - loss: 0.6602 - categorical_accuracy: 0.7541 - val_loss: 1.1283 - val_categorical_accuracy: 0.6000\n",
      "Epoch 21/50\n",
      "11/11 [==============================] - ETA: 0s - loss: 0.6741 - categorical_accuracy: 0.7541\n",
      "Epoch 00021: val_loss improved from 1.12833 to 0.92136, saving model to model_init_2021-07-2710_50_42.694723/model-00021-0.67410-0.75415-0.92136-0.70000.h5\n",
      "11/11 [==============================] - 27s 2s/step - loss: 0.6741 - categorical_accuracy: 0.7541 - val_loss: 0.9214 - val_categorical_accuracy: 0.7000\n",
      "Epoch 22/50\n",
      "11/11 [==============================] - ETA: 0s - loss: 0.6630 - categorical_accuracy: 0.7602\n",
      "Epoch 00022: val_loss improved from 0.92136 to 0.79135, saving model to model_init_2021-07-2710_50_42.694723/model-00022-0.66305-0.76018-0.79135-0.72000.h5\n",
      "11/11 [==============================] - 26s 2s/step - loss: 0.6630 - categorical_accuracy: 0.7602 - val_loss: 0.7913 - val_categorical_accuracy: 0.7200\n",
      "Epoch 23/50\n",
      "11/11 [==============================] - ETA: 0s - loss: 0.5854 - categorical_accuracy: 0.7934\n",
      "Epoch 00023: val_loss did not improve from 0.79135\n",
      "11/11 [==============================] - 27s 2s/step - loss: 0.5854 - categorical_accuracy: 0.7934 - val_loss: 0.9090 - val_categorical_accuracy: 0.6000\n",
      "Epoch 24/50\n",
      "11/11 [==============================] - ETA: 0s - loss: 0.5898 - categorical_accuracy: 0.7843\n",
      "Epoch 00024: val_loss improved from 0.79135 to 0.75289, saving model to model_init_2021-07-2710_50_42.694723/model-00024-0.58978-0.78431-0.75289-0.75000.h5\n",
      "11/11 [==============================] - 26s 2s/step - loss: 0.5898 - categorical_accuracy: 0.7843 - val_loss: 0.7529 - val_categorical_accuracy: 0.7500\n",
      "Epoch 25/50\n",
      "11/11 [==============================] - ETA: 0s - loss: 0.5288 - categorical_accuracy: 0.8039\n",
      "Epoch 00025: val_loss did not improve from 0.75289\n",
      "11/11 [==============================] - 27s 2s/step - loss: 0.5288 - categorical_accuracy: 0.8039 - val_loss: 1.0944 - val_categorical_accuracy: 0.5800\n",
      "Epoch 26/50\n",
      "11/11 [==============================] - ETA: 0s - loss: 0.5152 - categorical_accuracy: 0.8130\n",
      "Epoch 00026: val_loss did not improve from 0.75289\n",
      "\n",
      "Epoch 00026: ReduceLROnPlateau reducing learning rate to 0.00020000000949949026.\n",
      "11/11 [==============================] - 26s 2s/step - loss: 0.5152 - categorical_accuracy: 0.8130 - val_loss: 1.0235 - val_categorical_accuracy: 0.5500\n",
      "Epoch 27/50\n",
      "11/11 [==============================] - ETA: 0s - loss: 0.5216 - categorical_accuracy: 0.7919\n",
      "Epoch 00027: val_loss did not improve from 0.75289\n",
      "11/11 [==============================] - 28s 3s/step - loss: 0.5216 - categorical_accuracy: 0.7919 - val_loss: 1.2150 - val_categorical_accuracy: 0.4200\n",
      "Epoch 28/50\n",
      "11/11 [==============================] - ETA: 0s - loss: 0.4725 - categorical_accuracy: 0.8039\n",
      "Epoch 00028: val_loss did not improve from 0.75289\n",
      "\n",
      "Epoch 00028: ReduceLROnPlateau reducing learning rate to 0.0001.\n",
      "11/11 [==============================] - 26s 2s/step - loss: 0.4725 - categorical_accuracy: 0.8039 - val_loss: 1.1056 - val_categorical_accuracy: 0.5000\n",
      "Epoch 29/50\n",
      "11/11 [==============================] - ETA: 0s - loss: 0.4443 - categorical_accuracy: 0.8341\n",
      "Epoch 00029: val_loss did not improve from 0.75289\n",
      "11/11 [==============================] - 27s 2s/step - loss: 0.4443 - categorical_accuracy: 0.8341 - val_loss: 0.8366 - val_categorical_accuracy: 0.6400\n",
      "Epoch 30/50\n",
      "11/11 [==============================] - ETA: 0s - loss: 0.4614 - categorical_accuracy: 0.8265\n",
      "Epoch 00030: val_loss improved from 0.75289 to 0.71487, saving model to model_init_2021-07-2710_50_42.694723/model-00030-0.46138-0.82655-0.71487-0.70000.h5\n",
      "11/11 [==============================] - 26s 2s/step - loss: 0.4614 - categorical_accuracy: 0.8265 - val_loss: 0.7149 - val_categorical_accuracy: 0.7000\n",
      "Epoch 31/50\n",
      "11/11 [==============================] - ETA: 0s - loss: 0.4451 - categorical_accuracy: 0.8341\n",
      "Epoch 00031: val_loss improved from 0.71487 to 0.64065, saving model to model_init_2021-07-2710_50_42.694723/model-00031-0.44514-0.83409-0.64065-0.75000.h5\n",
      "11/11 [==============================] - 27s 2s/step - loss: 0.4451 - categorical_accuracy: 0.8341 - val_loss: 0.6406 - val_categorical_accuracy: 0.7500\n",
      "Epoch 32/50\n",
      "11/11 [==============================] - ETA: 0s - loss: 0.4256 - categorical_accuracy: 0.8356\n",
      "Epoch 00032: val_loss did not improve from 0.64065\n",
      "11/11 [==============================] - 26s 2s/step - loss: 0.4256 - categorical_accuracy: 0.8356 - val_loss: 0.6771 - val_categorical_accuracy: 0.7200\n",
      "Epoch 33/50\n",
      "11/11 [==============================] - ETA: 0s - loss: 0.4125 - categorical_accuracy: 0.8386\n",
      "Epoch 00033: val_loss did not improve from 0.64065\n",
      "11/11 [==============================] - 27s 2s/step - loss: 0.4125 - categorical_accuracy: 0.8386 - val_loss: 0.6821 - val_categorical_accuracy: 0.7600\n",
      "Epoch 34/50\n",
      "11/11 [==============================] - ETA: 0s - loss: 0.4158 - categorical_accuracy: 0.8416\n",
      "Epoch 00034: val_loss improved from 0.64065 to 0.53459, saving model to model_init_2021-07-2710_50_42.694723/model-00034-0.41577-0.84163-0.53459-0.85000.h5\n",
      "11/11 [==============================] - 26s 2s/step - loss: 0.4158 - categorical_accuracy: 0.8416 - val_loss: 0.5346 - val_categorical_accuracy: 0.8500\n",
      "Epoch 35/50\n",
      "11/11 [==============================] - ETA: 0s - loss: 0.4573 - categorical_accuracy: 0.8145\n",
      "Epoch 00035: val_loss did not improve from 0.53459\n",
      "11/11 [==============================] - 28s 3s/step - loss: 0.4573 - categorical_accuracy: 0.8145 - val_loss: 0.6071 - val_categorical_accuracy: 0.7800\n",
      "Epoch 36/50\n",
      "11/11 [==============================] - ETA: 0s - loss: 0.3997 - categorical_accuracy: 0.8431\n",
      "Epoch 00036: val_loss improved from 0.53459 to 0.48321, saving model to model_init_2021-07-2710_50_42.694723/model-00036-0.39968-0.84314-0.48321-0.85000.h5\n",
      "11/11 [==============================] - 26s 2s/step - loss: 0.3997 - categorical_accuracy: 0.8431 - val_loss: 0.4832 - val_categorical_accuracy: 0.8500\n",
      "Epoch 37/50\n",
      "11/11 [==============================] - ETA: 0s - loss: 0.3929 - categorical_accuracy: 0.8477\n",
      "Epoch 00037: val_loss did not improve from 0.48321\n",
      "11/11 [==============================] - 27s 2s/step - loss: 0.3929 - categorical_accuracy: 0.8477 - val_loss: 0.5094 - val_categorical_accuracy: 0.8100\n",
      "Epoch 38/50\n",
      "11/11 [==============================] - ETA: 0s - loss: 0.3829 - categorical_accuracy: 0.8522\n",
      "Epoch 00038: val_loss did not improve from 0.48321\n",
      "11/11 [==============================] - 26s 2s/step - loss: 0.3829 - categorical_accuracy: 0.8522 - val_loss: 0.5351 - val_categorical_accuracy: 0.8100\n",
      "Epoch 39/50\n",
      "11/11 [==============================] - ETA: 0s - loss: 0.3928 - categorical_accuracy: 0.8552\n",
      "Epoch 00039: val_loss improved from 0.48321 to 0.44186, saving model to model_init_2021-07-2710_50_42.694723/model-00039-0.39280-0.85520-0.44186-0.85000.h5\n",
      "11/11 [==============================] - 28s 3s/step - loss: 0.3928 - categorical_accuracy: 0.8552 - val_loss: 0.4419 - val_categorical_accuracy: 0.8500\n",
      "Epoch 40/50\n",
      "11/11 [==============================] - ETA: 0s - loss: 0.3325 - categorical_accuracy: 0.8778\n",
      "Epoch 00040: val_loss did not improve from 0.44186\n",
      "11/11 [==============================] - 26s 2s/step - loss: 0.3325 - categorical_accuracy: 0.8778 - val_loss: 0.4808 - val_categorical_accuracy: 0.8700\n",
      "Epoch 41/50\n",
      "11/11 [==============================] - ETA: 0s - loss: 0.3637 - categorical_accuracy: 0.8748\n",
      "Epoch 00041: val_loss did not improve from 0.44186\n",
      "11/11 [==============================] - 27s 2s/step - loss: 0.3637 - categorical_accuracy: 0.8748 - val_loss: 0.4595 - val_categorical_accuracy: 0.8400\n",
      "Epoch 42/50\n",
      "11/11 [==============================] - ETA: 0s - loss: 0.3084 - categorical_accuracy: 0.8808\n",
      "Epoch 00042: val_loss did not improve from 0.44186\n",
      "11/11 [==============================] - 25s 2s/step - loss: 0.3084 - categorical_accuracy: 0.8808 - val_loss: 0.5213 - val_categorical_accuracy: 0.8000\n",
      "Epoch 43/50\n",
      "11/11 [==============================] - ETA: 0s - loss: 0.3560 - categorical_accuracy: 0.8643\n",
      "Epoch 00043: val_loss improved from 0.44186 to 0.44048, saving model to model_init_2021-07-2710_50_42.694723/model-00043-0.35605-0.86425-0.44048-0.85000.h5\n",
      "11/11 [==============================] - 26s 2s/step - loss: 0.3560 - categorical_accuracy: 0.8643 - val_loss: 0.4405 - val_categorical_accuracy: 0.8500\n",
      "Epoch 44/50\n",
      "11/11 [==============================] - ETA: 0s - loss: 0.3345 - categorical_accuracy: 0.8673\n",
      "Epoch 00044: val_loss improved from 0.44048 to 0.42271, saving model to model_init_2021-07-2710_50_42.694723/model-00044-0.33450-0.86727-0.42271-0.86000.h5\n",
      "11/11 [==============================] - 26s 2s/step - loss: 0.3345 - categorical_accuracy: 0.8673 - val_loss: 0.4227 - val_categorical_accuracy: 0.8600\n",
      "Epoch 45/50\n",
      "11/11 [==============================] - ETA: 0s - loss: 0.3343 - categorical_accuracy: 0.8748\n",
      "Epoch 00045: val_loss improved from 0.42271 to 0.40344, saving model to model_init_2021-07-2710_50_42.694723/model-00045-0.33428-0.87481-0.40344-0.89000.h5\n",
      "11/11 [==============================] - 27s 2s/step - loss: 0.3343 - categorical_accuracy: 0.8748 - val_loss: 0.4034 - val_categorical_accuracy: 0.8900\n",
      "Epoch 46/50\n",
      "11/11 [==============================] - ETA: 0s - loss: 0.3522 - categorical_accuracy: 0.8477\n",
      "Epoch 00046: val_loss did not improve from 0.40344\n",
      "11/11 [==============================] - 26s 2s/step - loss: 0.3522 - categorical_accuracy: 0.8477 - val_loss: 0.4760 - val_categorical_accuracy: 0.8400\n",
      "Epoch 47/50\n",
      "11/11 [==============================] - ETA: 0s - loss: 0.3170 - categorical_accuracy: 0.8748\n",
      "Epoch 00047: val_loss improved from 0.40344 to 0.40344, saving model to model_init_2021-07-2710_50_42.694723/model-00047-0.31704-0.87481-0.40344-0.88000.h5\n",
      "11/11 [==============================] - 27s 2s/step - loss: 0.3170 - categorical_accuracy: 0.8748 - val_loss: 0.4034 - val_categorical_accuracy: 0.8800\n",
      "Epoch 48/50\n",
      "11/11 [==============================] - ETA: 0s - loss: 0.3119 - categorical_accuracy: 0.8808\n",
      "Epoch 00048: val_loss did not improve from 0.40344\n",
      "11/11 [==============================] - 27s 2s/step - loss: 0.3119 - categorical_accuracy: 0.8808 - val_loss: 0.5075 - val_categorical_accuracy: 0.8200\n",
      "Epoch 49/50\n",
      "11/11 [==============================] - ETA: 0s - loss: 0.3174 - categorical_accuracy: 0.8854\n",
      "Epoch 00049: val_loss did not improve from 0.40344\n",
      "11/11 [==============================] - 27s 2s/step - loss: 0.3174 - categorical_accuracy: 0.8854 - val_loss: 0.5740 - val_categorical_accuracy: 0.7800\n",
      "Epoch 50/50\n",
      "11/11 [==============================] - ETA: 0s - loss: 0.3732 - categorical_accuracy: 0.8537\n",
      "Epoch 00050: val_loss did not improve from 0.40344\n",
      "11/11 [==============================] - 26s 2s/step - loss: 0.3732 - categorical_accuracy: 0.8537 - val_loss: 0.4628 - val_categorical_accuracy: 0.8300\n"
     ]
    },
    {
     "data": {
      "text/plain": [
       "<tensorflow.python.keras.callbacks.History at 0x7f5befeb4278>"
      ]
     },
     "execution_count": 15,
     "metadata": {},
     "output_type": "execute_result"
    }
   ],
   "source": [
    "model.fit_generator(train_generator, steps_per_epoch=steps_per_epoch, epochs=num_epochs, verbose=1, \n",
    "                    callbacks=callbacks_list, validation_data=val_generator, \n",
    "                    validation_steps=validation_steps, class_weight=None, workers=1, initial_epoch=0)"
   ]
  },
  {
   "cell_type": "code",
   "execution_count": null,
   "metadata": {},
   "outputs": [],
   "source": []
  },
  {
   "cell_type": "code",
   "execution_count": null,
   "metadata": {},
   "outputs": [],
   "source": []
  }
 ],
 "metadata": {
  "kernelspec": {
   "display_name": "Python 3",
   "language": "python",
   "name": "python3"
  },
  "language_info": {
   "codemirror_mode": {
    "name": "ipython",
    "version": 3
   },
   "file_extension": ".py",
   "mimetype": "text/x-python",
   "name": "python",
   "nbconvert_exporter": "python",
   "pygments_lexer": "ipython3",
   "version": "3.8.5"
  }
 },
 "nbformat": 4,
 "nbformat_minor": 4
}
